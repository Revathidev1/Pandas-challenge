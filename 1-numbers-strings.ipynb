{
 "cells": [
  {
   "cell_type": "markdown",
   "metadata": {
    "id": "GG8cSDex9jqw"
   },
   "source": [
    "# Numbers and Strings\n",
    "\n",
    "In Python, like any other programming language and life in general, we _do things_ with _stuff_. Most of this course will focus on the things we do and how to do them. But today we will talk about the stuff.\n",
    "\n",
    "Almost everything in Python is an object. We will deal with numbers, text, lists, dictionaries... all of these things are different types of Python objects.\n",
    "\n",
    "The type of an object defines what can you do with it, and how will it behave. For example, you can add two numbers together, and as long as they are a type of python number, they will behave just as in maths: you will receive the product of the two numbers"
   ]
  },
  {
   "cell_type": "code",
   "execution_count": null,
   "metadata": {
    "colab": {
     "base_uri": "https://localhost:8080/"
    },
    "executionInfo": {
     "elapsed": 19,
     "status": "ok",
     "timestamp": 1656925033118,
     "user": {
      "displayName": "Ben Elvin",
      "userId": "09111547648527423041"
     },
     "user_tz": -120
    },
    "id": "3sGGztmy9jqz",
    "outputId": "b338d920-92c2-4efd-daa5-4bf1799f306e"
   },
   "outputs": [
    {
     "data": {
      "text/plain": [
       "4"
      ]
     },
     "execution_count": 1,
     "metadata": {},
     "output_type": "execute_result"
    }
   ],
   "source": [
    "2 + 2"
   ]
  },
  {
   "cell_type": "markdown",
   "metadata": {
    "id": "P--VHI4w9jq2"
   },
   "source": [
    "But if you try to sum two strings, the behaviour will be different:"
   ]
  },
  {
   "cell_type": "code",
   "execution_count": null,
   "metadata": {
    "colab": {
     "base_uri": "https://localhost:8080/",
     "height": 35
    },
    "executionInfo": {
     "elapsed": 16,
     "status": "ok",
     "timestamp": 1656925033119,
     "user": {
      "displayName": "Ben Elvin",
      "userId": "09111547648527423041"
     },
     "user_tz": -120
    },
    "id": "Vbnc7Kfh9jq3",
    "outputId": "920b8b70-fad2-457a-c8d2-59b5972ea5e2"
   },
   "outputs": [
    {
     "data": {
      "application/vnd.google.colaboratory.intrinsic+json": {
       "type": "string"
      },
      "text/plain": [
       "'22'"
      ]
     },
     "execution_count": 2,
     "metadata": {},
     "output_type": "execute_result"
    }
   ],
   "source": [
    "\"2\" + \"2\""
   ]
  },
  {
   "cell_type": "markdown",
   "metadata": {
    "id": "1vXMNDRA9jq3"
   },
   "source": [
    "Any object in Python can be assigned to a variable with the `=` operator. Variables are just names for objects - they're nicknames that allow us to identify or call our objects."
   ]
  },
  {
   "cell_type": "code",
   "execution_count": null,
   "metadata": {
    "id": "_580VfMW9jq4"
   },
   "outputs": [],
   "source": [
    "result = 4 + 3"
   ]
  },
  {
   "cell_type": "markdown",
   "metadata": {
    "id": "gMrCtWGE9jq4"
   },
   "source": [
    "At any point, we can retrieve whatever we stored in a variable by using its name:"
   ]
  },
  {
   "cell_type": "code",
   "execution_count": null,
   "metadata": {
    "colab": {
     "base_uri": "https://localhost:8080/"
    },
    "executionInfo": {
     "elapsed": 16,
     "status": "ok",
     "timestamp": 1656925033120,
     "user": {
      "displayName": "Ben Elvin",
      "userId": "09111547648527423041"
     },
     "user_tz": -120
    },
    "id": "AaWJYeHW9jq5",
    "outputId": "ae2ac8ff-a77e-4c24-e808-6c4a1984a7d8"
   },
   "outputs": [
    {
     "name": "stdout",
     "output_type": "stream",
     "text": [
      "7\n"
     ]
    }
   ],
   "source": [
    "# https://cs.stanford.edu/people/nick/py/python-print.html\n",
    "\n",
    "print(result)"
   ]
  },
  {
   "cell_type": "markdown",
   "metadata": {
    "id": "-xH_7viN9jq5"
   },
   "source": [
    "If we want to find out what type of object a variable is, we can ask it with the function `type()`, like this:"
   ]
  },
  {
   "cell_type": "code",
   "execution_count": null,
   "metadata": {
    "colab": {
     "base_uri": "https://localhost:8080/"
    },
    "executionInfo": {
     "elapsed": 13,
     "status": "ok",
     "timestamp": 1656925033121,
     "user": {
      "displayName": "Ben Elvin",
      "userId": "09111547648527423041"
     },
     "user_tz": -120
    },
    "id": "gU3ZbrAk9jq6",
    "outputId": "5f55a59f-f05a-4677-a81c-66c917dcc293"
   },
   "outputs": [
    {
     "data": {
      "text/plain": [
       "int"
      ]
     },
     "execution_count": 5,
     "metadata": {},
     "output_type": "execute_result"
    }
   ],
   "source": [
    "# https://www.programiz.com/python-programming/methods/built-in/type\n",
    "\n",
    "type(result)"
   ]
  },
  {
   "cell_type": "markdown",
   "metadata": {
    "id": "e3r8xQc-9jq6"
   },
   "source": [
    "###### **Exercise 1:**\n",
    "add `100` and `3.4`. Assign it to the variable `addition`. Print the type of that variable."
   ]
  },
  {
   "cell_type": "code",
   "execution_count": null,
   "metadata": {
    "colab": {
     "base_uri": "https://localhost:8080/"
    },
    "executionInfo": {
     "elapsed": 980,
     "status": "ok",
     "timestamp": 1669112692633,
     "user": {
      "displayName": "revathi ramasamy",
      "userId": "03490917078317860992"
     },
     "user_tz": -60
    },
    "id": "MC6QjWi29jq6",
    "outputId": "aafa4495-8b20-4bbf-abd1-c217ce985564"
   },
   "outputs": [
    {
     "name": "stdout",
     "output_type": "stream",
     "text": [
      "<class 'float'>\n"
     ]
    }
   ],
   "source": [
    "add=100+3.4\n",
    "print(type(add))"
   ]
  },
  {
   "cell_type": "markdown",
   "metadata": {
    "id": "uBveabbD9jq7"
   },
   "source": [
    "## Booleans\n",
    "\n",
    "The values `True` and `False` are special in Python. They are called \"booleans\"."
   ]
  },
  {
   "cell_type": "code",
   "execution_count": null,
   "metadata": {
    "colab": {
     "base_uri": "https://localhost:8080/"
    },
    "executionInfo": {
     "elapsed": 36,
     "status": "ok",
     "timestamp": 1656925033620,
     "user": {
      "displayName": "Ben Elvin",
      "userId": "09111547648527423041"
     },
     "user_tz": -120
    },
    "id": "cAlYm9kJ9jq7",
    "outputId": "5391e5bb-1312-45bb-d4d0-71e44389741e"
   },
   "outputs": [
    {
     "data": {
      "text/plain": [
       "bool"
      ]
     },
     "execution_count": 7,
     "metadata": {},
     "output_type": "execute_result"
    }
   ],
   "source": [
    "type(True)"
   ]
  },
  {
   "cell_type": "code",
   "execution_count": null,
   "metadata": {
    "colab": {
     "base_uri": "https://localhost:8080/"
    },
    "executionInfo": {
     "elapsed": 36,
     "status": "ok",
     "timestamp": 1656925033621,
     "user": {
      "displayName": "Ben Elvin",
      "userId": "09111547648527423041"
     },
     "user_tz": -120
    },
    "id": "AXToyxAt9jq7",
    "outputId": "8fd30cc7-f958-47cc-8426-0efb0e1a8983"
   },
   "outputs": [
    {
     "data": {
      "text/plain": [
       "bool"
      ]
     },
     "execution_count": 8,
     "metadata": {},
     "output_type": "execute_result"
    }
   ],
   "source": [
    "type(False)"
   ]
  },
  {
   "cell_type": "markdown",
   "metadata": {
    "id": "J1Ltqfls9jq7"
   },
   "source": [
    "If you try to use mathematical operations with booleans, will see how `True` equates to `1` and `False` equates to `0`\n"
   ]
  },
  {
   "cell_type": "code",
   "execution_count": null,
   "metadata": {
    "colab": {
     "base_uri": "https://localhost:8080/"
    },
    "executionInfo": {
     "elapsed": 33,
     "status": "ok",
     "timestamp": 1656925033621,
     "user": {
      "displayName": "Ben Elvin",
      "userId": "09111547648527423041"
     },
     "user_tz": -120
    },
    "id": "mwsFtaDZ9jq8",
    "outputId": "51397653-215b-4c8a-ed8a-3b99f706fc8a"
   },
   "outputs": [
    {
     "data": {
      "text/plain": [
       "2"
      ]
     },
     "execution_count": 9,
     "metadata": {},
     "output_type": "execute_result"
    }
   ],
   "source": [
    "True + True"
   ]
  },
  {
   "cell_type": "code",
   "execution_count": null,
   "metadata": {
    "colab": {
     "base_uri": "https://localhost:8080/"
    },
    "executionInfo": {
     "elapsed": 31,
     "status": "ok",
     "timestamp": 1656925033622,
     "user": {
      "displayName": "Ben Elvin",
      "userId": "09111547648527423041"
     },
     "user_tz": -120
    },
    "id": "HhT2fJJJ9jq8",
    "outputId": "f61d8abe-2dee-46a4-9fae-175c6887f65d"
   },
   "outputs": [
    {
     "data": {
      "text/plain": [
       "0"
      ]
     },
     "execution_count": 10,
     "metadata": {},
     "output_type": "execute_result"
    }
   ],
   "source": [
    "False + False"
   ]
  },
  {
   "cell_type": "markdown",
   "metadata": {
    "id": "mIrc9DDk9jq8"
   },
   "source": [
    "## Integers\n",
    "\n",
    "Integers are whole numbers (without fractions or decimal points) that can be positive or negative."
   ]
  },
  {
   "cell_type": "code",
   "execution_count": null,
   "metadata": {
    "colab": {
     "base_uri": "https://localhost:8080/"
    },
    "executionInfo": {
     "elapsed": 26,
     "status": "ok",
     "timestamp": 1656925033623,
     "user": {
      "displayName": "Ben Elvin",
      "userId": "09111547648527423041"
     },
     "user_tz": -120
    },
    "id": "mLef5s7O9jq8",
    "outputId": "d8dcb37f-57ad-4869-cc99-f711dfa90329"
   },
   "outputs": [
    {
     "data": {
      "text/plain": [
       "int"
      ]
     },
     "execution_count": 11,
     "metadata": {},
     "output_type": "execute_result"
    }
   ],
   "source": [
    "type(-8)"
   ]
  },
  {
   "cell_type": "markdown",
   "metadata": {
    "id": "TGTFBWwS9jq9"
   },
   "source": [
    "You can use mathmatical operators with integers (and floats):\n",
    "\n",
    "- `+` Addition\n",
    "- `-` Substraction\n",
    "- `*` Multiplication\n",
    "- `/` Floating-point division\n",
    "- `//` Truncating division\n",
    "- `%` Modulus\n",
    "- `**` Exponentiation"
   ]
  },
  {
   "cell_type": "markdown",
   "metadata": {
    "id": "RdTqurnS9jq9"
   },
   "source": [
    "###### **Exercise 2:**\n",
    "assign the number corresponding to the present year to the variable `year` and your age to the variable `age`. Operate with both variables to create a new variable called `birth_year`."
   ]
  },
  {
   "cell_type": "code",
   "execution_count": null,
   "metadata": {
    "colab": {
     "base_uri": "https://localhost:8080/"
    },
    "executionInfo": {
     "elapsed": 435,
     "status": "ok",
     "timestamp": 1669113476998,
     "user": {
      "displayName": "revathi ramasamy",
      "userId": "03490917078317860992"
     },
     "user_tz": -60
    },
    "id": "LWxyFfCj9jq9",
    "outputId": "b35b8eed-e195-4ee9-c8bf-289709722cf2"
   },
   "outputs": [
    {
     "name": "stdout",
     "output_type": "stream",
     "text": [
      "37\n"
     ]
    }
   ],
   "source": [
    "\n",
    "age=36\n",
    "age=age+1\n",
    "birth_year=print(age)"
   ]
  },
  {
   "cell_type": "markdown",
   "metadata": {
    "id": "9HB_1T5j9jq9"
   },
   "source": [
    "You can update the value of a variable like this:"
   ]
  },
  {
   "cell_type": "code",
   "execution_count": null,
   "metadata": {
    "colab": {
     "base_uri": "https://localhost:8080/"
    },
    "executionInfo": {
     "elapsed": 22,
     "status": "ok",
     "timestamp": 1656925033624,
     "user": {
      "displayName": "Ben Elvin",
      "userId": "09111547648527423041"
     },
     "user_tz": -120
    },
    "id": "hexmreCK9jq9",
    "outputId": "917f35a4-06ee-4495-c926-33a7a5956a91"
   },
   "outputs": [
    {
     "name": "stdout",
     "output_type": "stream",
     "text": [
      "31\n"
     ]
    }
   ],
   "source": [
    "age = 30\n",
    "age = age + 1\n",
    "print(age)"
   ]
  },
  {
   "cell_type": "markdown",
   "metadata": {
    "id": "fOg2IqIi9jq-"
   },
   "source": [
    "Or you can get the same output by combining both arithmetic operators like this:"
   ]
  },
  {
   "cell_type": "code",
   "execution_count": null,
   "metadata": {
    "colab": {
     "base_uri": "https://localhost:8080/"
    },
    "executionInfo": {
     "elapsed": 18,
     "status": "ok",
     "timestamp": 1656925033624,
     "user": {
      "displayName": "Ben Elvin",
      "userId": "09111547648527423041"
     },
     "user_tz": -120
    },
    "id": "sYAzFGxI9jq-",
    "outputId": "fa355bb9-996f-4ae8-8988-017cf06d483b"
   },
   "outputs": [
    {
     "name": "stdout",
     "output_type": "stream",
     "text": [
      "31\n"
     ]
    }
   ],
   "source": [
    "age = 30\n",
    "age += 1\n",
    "print(age)"
   ]
  },
  {
   "cell_type": "markdown",
   "metadata": {
    "id": "1jGUon5V9jq-"
   },
   "source": [
    "The same holds for other mathmatical operators\n",
    "\n",
    "###### **Exercise 3:**\n",
    "create a variable called `price` with the value `100`. Then update its value in a single line by multiplying it by `2`."
   ]
  },
  {
   "cell_type": "code",
   "execution_count": null,
   "metadata": {
    "colab": {
     "base_uri": "https://localhost:8080/"
    },
    "executionInfo": {
     "elapsed": 11,
     "status": "ok",
     "timestamp": 1669113521731,
     "user": {
      "displayName": "revathi ramasamy",
      "userId": "03490917078317860992"
     },
     "user_tz": -60
    },
    "id": "y18avwiY9jq-",
    "outputId": "ba35ddcd-a4f1-4951-a993-6fd7cb1ca9a4"
   },
   "outputs": [
    {
     "name": "stdout",
     "output_type": "stream",
     "text": [
      "200\n"
     ]
    }
   ],
   "source": [
    "price=100\n",
    "print(price*2)"
   ]
  },
  {
   "cell_type": "markdown",
   "metadata": {
    "id": "2GvpaJ819jq_"
   },
   "source": [
    "You can convert stuff that's not an integer to an integer with the function `int`:"
   ]
  },
  {
   "cell_type": "code",
   "execution_count": null,
   "metadata": {
    "colab": {
     "base_uri": "https://localhost:8080/"
    },
    "executionInfo": {
     "elapsed": 14,
     "status": "ok",
     "timestamp": 1656925033625,
     "user": {
      "displayName": "Ben Elvin",
      "userId": "09111547648527423041"
     },
     "user_tz": -120
    },
    "id": "cwre3wND9jq_",
    "outputId": "b5a99390-1288-4476-cdb6-f915b92479a5"
   },
   "outputs": [
    {
     "data": {
      "text/plain": [
       "3"
      ]
     },
     "execution_count": 16,
     "metadata": {},
     "output_type": "execute_result"
    }
   ],
   "source": [
    "# https://www.w3schools.com/python/ref_func_int.asp\n",
    "\n",
    "int(3.14)"
   ]
  },
  {
   "cell_type": "code",
   "execution_count": null,
   "metadata": {
    "colab": {
     "base_uri": "https://localhost:8080/"
    },
    "executionInfo": {
     "elapsed": 435,
     "status": "ok",
     "timestamp": 1656925034048,
     "user": {
      "displayName": "Ben Elvin",
      "userId": "09111547648527423041"
     },
     "user_tz": -120
    },
    "id": "oZTt6ynH9jrA",
    "outputId": "f1bba3ec-386a-4774-ed7b-f52324f57ac9"
   },
   "outputs": [
    {
     "data": {
      "text/plain": [
       "4"
      ]
     },
     "execution_count": 17,
     "metadata": {},
     "output_type": "execute_result"
    }
   ],
   "source": [
    "int(\"4\")"
   ]
  },
  {
   "cell_type": "markdown",
   "metadata": {
    "id": "npt0J-8m9jrA"
   },
   "source": [
    "If you try to convert to an integer something that cannot be interpreted as such, you will get an *exception*:"
   ]
  },
  {
   "cell_type": "code",
   "execution_count": null,
   "metadata": {
    "colab": {
     "base_uri": "https://localhost:8080/",
     "height": 165
    },
    "executionInfo": {
     "elapsed": 39,
     "status": "error",
     "timestamp": 1656925034063,
     "user": {
      "displayName": "Ben Elvin",
      "userId": "09111547648527423041"
     },
     "user_tz": -120
    },
    "id": "uQ4cUvAu9jrA",
    "outputId": "301e1c66-f1f5-43c5-ccdc-772114bd35ae"
   },
   "outputs": [
    {
     "ename": "ValueError",
     "evalue": "ignored",
     "output_type": "error",
     "traceback": [
      "\u001b[0;31m---------------------------------------------------------------------------\u001b[0m",
      "\u001b[0;31mValueError\u001b[0m                                Traceback (most recent call last)",
      "\u001b[0;32m<ipython-input-18-159e72cb0883>\u001b[0m in \u001b[0;36m<module>\u001b[0;34m()\u001b[0m\n\u001b[0;32m----> 1\u001b[0;31m \u001b[0mint\u001b[0m\u001b[0;34m(\u001b[0m\u001b[0;34m\"Hey hey hey\"\u001b[0m\u001b[0;34m)\u001b[0m\u001b[0;34m\u001b[0m\u001b[0;34m\u001b[0m\u001b[0m\n\u001b[0m",
      "\u001b[0;31mValueError\u001b[0m: invalid literal for int() with base 10: 'Hey hey hey'"
     ]
    }
   ],
   "source": [
    "int(\"Hey hey hey\")"
   ]
  },
  {
   "cell_type": "markdown",
   "metadata": {
    "id": "79CbyD_G9jrA"
   },
   "source": [
    "## Floats\n",
    "\n",
    "Floats are numbers with decimal places"
   ]
  },
  {
   "cell_type": "code",
   "execution_count": null,
   "metadata": {
    "colab": {
     "base_uri": "https://localhost:8080/"
    },
    "executionInfo": {
     "elapsed": 332,
     "status": "ok",
     "timestamp": 1656925040678,
     "user": {
      "displayName": "Ben Elvin",
      "userId": "09111547648527423041"
     },
     "user_tz": -120
    },
    "id": "cprwKJOd9jrA",
    "outputId": "853d0493-7038-4ba3-a196-943fd665d6c0"
   },
   "outputs": [
    {
     "data": {
      "text/plain": [
       "3.0"
      ]
     },
     "execution_count": 19,
     "metadata": {},
     "output_type": "execute_result"
    }
   ],
   "source": [
    "3."
   ]
  },
  {
   "cell_type": "markdown",
   "metadata": {
    "id": "n87g1nka9jrA"
   },
   "source": [
    "They can include the letter e for an exponent:"
   ]
  },
  {
   "cell_type": "code",
   "execution_count": null,
   "metadata": {
    "colab": {
     "base_uri": "https://localhost:8080/"
    },
    "executionInfo": {
     "elapsed": 7,
     "status": "ok",
     "timestamp": 1656925041088,
     "user": {
      "displayName": "Ben Elvin",
      "userId": "09111547648527423041"
     },
     "user_tz": -120
    },
    "id": "EVKKC8s_9jrA",
    "outputId": "f3b664bd-291d-48f5-cd06-4e80f1bea5cf"
   },
   "outputs": [
    {
     "data": {
      "text/plain": [
       "300.0"
      ]
     },
     "execution_count": 20,
     "metadata": {},
     "output_type": "execute_result"
    }
   ],
   "source": [
    "3e2"
   ]
  },
  {
   "cell_type": "markdown",
   "metadata": {
    "id": "br3KdAjT9jrA"
   },
   "source": [
    "The function `float()` can be used to convert integers to floats:"
   ]
  },
  {
   "cell_type": "code",
   "execution_count": null,
   "metadata": {
    "colab": {
     "base_uri": "https://localhost:8080/"
    },
    "executionInfo": {
     "elapsed": 404,
     "status": "ok",
     "timestamp": 1656925041487,
     "user": {
      "displayName": "Ben Elvin",
      "userId": "09111547648527423041"
     },
     "user_tz": -120
    },
    "id": "ySxvm6mG9jrB",
    "outputId": "7070b53a-960c-426c-e05a-808567053c4b"
   },
   "outputs": [
    {
     "data": {
      "text/plain": [
       "24.0"
      ]
     },
     "execution_count": 21,
     "metadata": {},
     "output_type": "execute_result"
    }
   ],
   "source": [
    "float(24)"
   ]
  },
  {
   "cell_type": "markdown",
   "metadata": {
    "id": "x3cL_XwlJtis"
   },
   "source": [
    "###### **Exercise 4:**\n",
    "calculate how many seconds are there in a year. Store that number in a variable called `year_seconds`."
   ]
  },
  {
   "cell_type": "code",
   "execution_count": null,
   "metadata": {
    "colab": {
     "base_uri": "https://localhost:8080/"
    },
    "executionInfo": {
     "elapsed": 6,
     "status": "ok",
     "timestamp": 1669115098793,
     "user": {
      "displayName": "revathi ramasamy",
      "userId": "03490917078317860992"
     },
     "user_tz": -60
    },
    "id": "z1CHNlcW9-aY",
    "outputId": "92e71a91-6141-4d9a-ab08-21a6ed23d38d"
   },
   "outputs": [
    {
     "name": "stdout",
     "output_type": "stream",
     "text": [
      "31557600.0\n"
     ]
    }
   ],
   "source": [
    "year_seconds=print(365.25*24*60*60)"
   ]
  },
  {
   "cell_type": "markdown",
   "metadata": {
    "id": "v9Dlk7OdJ2Ba"
   },
   "source": [
    "###### **Exercise 5:**\n",
    "multiply your result of year_seconds by your age, and store it in a new variable called `life_seconds`."
   ]
  },
  {
   "cell_type": "code",
   "execution_count": null,
   "metadata": {
    "colab": {
     "base_uri": "https://localhost:8080/"
    },
    "executionInfo": {
     "elapsed": 8,
     "status": "ok",
     "timestamp": 1669115464869,
     "user": {
      "displayName": "revathi ramasamy",
      "userId": "03490917078317860992"
     },
     "user_tz": -60
    },
    "id": "AfdghPiM9jrB",
    "outputId": "53595936-1548-4099-bada-2dedaeeda5bd"
   },
   "outputs": [
    {
     "name": "stdout",
     "output_type": "stream",
     "text": [
      "1167631200.0\n"
     ]
    }
   ],
   "source": [
    "age=37\n",
    "years_second=31557600.0\n",
    "life_seconds=print(age*years_second)"
   ]
  },
  {
   "cell_type": "markdown",
   "metadata": {
    "id": "nxQ4KIn9KGCC"
   },
   "source": [
    "###### **Exercise 6:**\n",
    "calculate how many seconds you'll spend in this bootcamp. Store it into a variable called `bootcamp`."
   ]
  },
  {
   "cell_type": "code",
   "execution_count": null,
   "metadata": {
    "colab": {
     "base_uri": "https://localhost:8080/"
    },
    "executionInfo": {
     "elapsed": 274,
     "status": "ok",
     "timestamp": 1669115574870,
     "user": {
      "displayName": "revathi ramasamy",
      "userId": "03490917078317860992"
     },
     "user_tz": -60
    },
    "id": "sXlpbvbD9jrB",
    "outputId": "d8a446a4-e95d-407f-c6f0-677a14a4d5b3"
   },
   "outputs": [
    {
     "name": "stdout",
     "output_type": "stream",
     "text": [
      "9072000\n"
     ]
    }
   ],
   "source": [
    "bootcamp=print(15*7*24*60*60)"
   ]
  },
  {
   "cell_type": "markdown",
   "metadata": {
    "id": "d_1eFshnKdXw"
   },
   "source": [
    "###### **Exercise 7:**\n",
    "calculate what percentage of your life you will spend on this bootcamp."
   ]
  },
  {
   "cell_type": "code",
   "execution_count": null,
   "metadata": {
    "colab": {
     "base_uri": "https://localhost:8080/"
    },
    "executionInfo": {
     "elapsed": 14,
     "status": "ok",
     "timestamp": 1669115776663,
     "user": {
      "displayName": "revathi ramasamy",
      "userId": "03490917078317860992"
     },
     "user_tz": -60
    },
    "id": "vkv5XOWp9jrB",
    "outputId": "340a47dd-423a-4285-91be-8e3ebd0e0cf9"
   },
   "outputs": [
    {
     "name": "stdout",
     "output_type": "stream",
     "text": [
      "2520.0\n"
     ]
    }
   ],
   "source": [
    "print(9072000/3600)"
   ]
  },
  {
   "cell_type": "markdown",
   "metadata": {
    "id": "SJAbW5In9jrB"
   },
   "source": [
    "## Text Strings\n",
    "\n",
    "You will use text just as much as numbers when programming. Strings are created with either single quotes `'` or double quotes `\"`:"
   ]
  },
  {
   "cell_type": "code",
   "execution_count": null,
   "metadata": {
    "colab": {
     "base_uri": "https://localhost:8080/"
    },
    "executionInfo": {
     "elapsed": 68,
     "status": "ok",
     "timestamp": 1656925041489,
     "user": {
      "displayName": "Ben Elvin",
      "userId": "09111547648527423041"
     },
     "user_tz": -120
    },
    "id": "Rxgolhes9jrB",
    "outputId": "ed1c227a-583f-4afb-9d54-1bae6ab245b8"
   },
   "outputs": [
    {
     "name": "stdout",
     "output_type": "stream",
     "text": [
      "A string with double quotes\n",
      "A string with single quotes\n"
     ]
    }
   ],
   "source": [
    "print(\"A string with double quotes\")\n",
    "\n",
    "print('A string with single quotes')"
   ]
  },
  {
   "cell_type": "markdown",
   "metadata": {
    "id": "liAc8o259jrC"
   },
   "source": [
    "Having two possible quotation signs allows for having strings with quotes inside:"
   ]
  },
  {
   "cell_type": "code",
   "execution_count": null,
   "metadata": {
    "colab": {
     "base_uri": "https://localhost:8080/"
    },
    "executionInfo": {
     "elapsed": 68,
     "status": "ok",
     "timestamp": 1656925041490,
     "user": {
      "displayName": "Ben Elvin",
      "userId": "09111547648527423041"
     },
     "user_tz": -120
    },
    "id": "B9HZT5E99jrC",
    "outputId": "68cdd4bf-48f8-4cc7-cfc1-e004db81f0e2"
   },
   "outputs": [
    {
     "name": "stdout",
     "output_type": "stream",
     "text": [
      "The name of our school is 'WBS CODING SCHOOL', which can be abbreviated to 'WBSCS'\n",
      "The name of our school is \"WBS CODING SCHOOL\", which can be abbreviated to \"WBSCS\"\n"
     ]
    }
   ],
   "source": [
    "print(\"The name of our school is 'WBS CODING SCHOOL', which can be abbreviated to 'WBSCS'\")\n",
    "\n",
    "print('The name of our school is \"WBS CODING SCHOOL\", which can be abbreviated to \"WBSCS\"')"
   ]
  },
  {
   "cell_type": "markdown",
   "metadata": {
    "id": "tGDtyD1S9jrC"
   },
   "source": [
    "If you need to create a multiple-line string, you can use triple quotes:"
   ]
  },
  {
   "cell_type": "code",
   "execution_count": null,
   "metadata": {
    "colab": {
     "base_uri": "https://localhost:8080/"
    },
    "executionInfo": {
     "elapsed": 65,
     "status": "ok",
     "timestamp": 1656925041490,
     "user": {
      "displayName": "Ben Elvin",
      "userId": "09111547648527423041"
     },
     "user_tz": -120
    },
    "id": "OggB9_6q9jrC",
    "outputId": "6507d1a0-1583-4c4f-fe63-95896faf1f43"
   },
   "outputs": [
    {
     "name": "stdout",
     "output_type": "stream",
     "text": [
      "Hold fast to dreams\n",
      "For if dreams die\n",
      "Life is a broken-winged bird\n",
      "That cannot fly.\n",
      "Hold fast to dreams\n",
      "For when dreams go\n",
      "Life is a barren field\n",
      "Frozen with snow.\n"
     ]
    }
   ],
   "source": [
    "poem = \"\"\"Hold fast to dreams\n",
    "For if dreams die\n",
    "Life is a broken-winged bird\n",
    "That cannot fly.\n",
    "Hold fast to dreams\n",
    "For when dreams go\n",
    "Life is a barren field\n",
    "Frozen with snow.\"\"\"\n",
    "\n",
    "print(poem)"
   ]
  },
  {
   "cell_type": "markdown",
   "metadata": {
    "id": "XMDVSzhl9jrC"
   },
   "source": [
    "You can create a string out of another data type with `str()`:"
   ]
  },
  {
   "cell_type": "code",
   "execution_count": null,
   "metadata": {
    "colab": {
     "base_uri": "https://localhost:8080/"
    },
    "executionInfo": {
     "elapsed": 62,
     "status": "ok",
     "timestamp": 1656925041490,
     "user": {
      "displayName": "Ben Elvin",
      "userId": "09111547648527423041"
     },
     "user_tz": -120
    },
    "id": "Egjiy0FX9jrC",
    "outputId": "802f8785-7557-47ca-e141-e75cfd185993"
   },
   "outputs": [
    {
     "name": "stdout",
     "output_type": "stream",
     "text": [
      "88\n"
     ]
    }
   ],
   "source": [
    "# https://www.w3schools.com/python/ref_func_str.asp\n",
    "\n",
    "str_88 = str(88)\n",
    "print(str_88)"
   ]
  },
  {
   "cell_type": "code",
   "execution_count": null,
   "metadata": {
    "colab": {
     "base_uri": "https://localhost:8080/"
    },
    "executionInfo": {
     "elapsed": 59,
     "status": "ok",
     "timestamp": 1656925041490,
     "user": {
      "displayName": "Ben Elvin",
      "userId": "09111547648527423041"
     },
     "user_tz": -120
    },
    "id": "sII6zfHc9jrC",
    "outputId": "29bf76b9-a31c-4133-f37f-ba653bf70363"
   },
   "outputs": [
    {
     "data": {
      "text/plain": [
       "str"
      ]
     },
     "execution_count": 30,
     "metadata": {},
     "output_type": "execute_result"
    }
   ],
   "source": [
    "type(str_88)"
   ]
  },
  {
   "cell_type": "markdown",
   "metadata": {
    "id": "YncConBM9jrC"
   },
   "source": [
    "Some characters in python can have a special meaning.\n",
    "By using a backslash `\\` preceding a character, we \"escape\" its usual meaning and give a special meaning to it. \n",
    "\n",
    "For example, `\\n` will add a new line, and `\\t` will add a tab:"
   ]
  },
  {
   "cell_type": "code",
   "execution_count": null,
   "metadata": {
    "colab": {
     "base_uri": "https://localhost:8080/"
    },
    "executionInfo": {
     "elapsed": 55,
     "status": "ok",
     "timestamp": 1656925041491,
     "user": {
      "displayName": "Ben Elvin",
      "userId": "09111547648527423041"
     },
     "user_tz": -120
    },
    "id": "goss37jh9jrC",
    "outputId": "87e3686b-49b6-406d-86ad-58b982058236"
   },
   "outputs": [
    {
     "name": "stdout",
     "output_type": "stream",
     "text": [
      "This is the first line\n",
      "And this is the second one.\n"
     ]
    }
   ],
   "source": [
    "print(\"This is the first line\\nAnd this is the second one.\")"
   ]
  },
  {
   "cell_type": "code",
   "execution_count": null,
   "metadata": {
    "colab": {
     "base_uri": "https://localhost:8080/"
    },
    "executionInfo": {
     "elapsed": 52,
     "status": "ok",
     "timestamp": 1656925041491,
     "user": {
      "displayName": "Ben Elvin",
      "userId": "09111547648527423041"
     },
     "user_tz": -120
    },
    "id": "pITgLZAt9jrC",
    "outputId": "eddcd426-cda9-4016-8531-7433ee1f43c7"
   },
   "outputs": [
    {
     "name": "stdout",
     "output_type": "stream",
     "text": [
      "Before the tab\tAnd after the tab.\n"
     ]
    }
   ],
   "source": [
    "print(\"Before the tab\\tAnd after the tab.\")"
   ]
  },
  {
   "cell_type": "markdown",
   "metadata": {
    "id": "ecl__5ED9jrD"
   },
   "source": [
    "Similarly, you can escape quotes by using `\\`:"
   ]
  },
  {
   "cell_type": "code",
   "execution_count": null,
   "metadata": {
    "colab": {
     "base_uri": "https://localhost:8080/"
    },
    "executionInfo": {
     "elapsed": 49,
     "status": "ok",
     "timestamp": 1656925041491,
     "user": {
      "displayName": "Ben Elvin",
      "userId": "09111547648527423041"
     },
     "user_tz": -120
    },
    "id": "mkBuneqa9jrD",
    "outputId": "93bf7731-5869-4146-9b5c-f5410b1a0b3d"
   },
   "outputs": [
    {
     "name": "stdout",
     "output_type": "stream",
     "text": [
      "The world's largest rubber duck was 54'2\" by 67'7\" by 105'\n"
     ]
    }
   ],
   "source": [
    "fact = \"The world's largest rubber duck was 54'2\\\" by 67'7\\\" by 105'\"\n",
    "print(fact)"
   ]
  },
  {
   "cell_type": "markdown",
   "metadata": {
    "id": "-p906KkV9jrD"
   },
   "source": [
    "If you need to use a backslash inside your string, you type `\\\\`: the first backslash escapes the second one:"
   ]
  },
  {
   "cell_type": "code",
   "execution_count": null,
   "metadata": {
    "colab": {
     "base_uri": "https://localhost:8080/"
    },
    "executionInfo": {
     "elapsed": 47,
     "status": "ok",
     "timestamp": 1656925041491,
     "user": {
      "displayName": "Ben Elvin",
      "userId": "09111547648527423041"
     },
     "user_tz": -120
    },
    "id": "aAy-Fro69jrE",
    "outputId": "873e7bd0-d5af-458c-8d82-40346e7c0e17"
   },
   "outputs": [
    {
     "name": "stdout",
     "output_type": "stream",
     "text": [
      "Please contemplate a single, one —and only one— backslash: \\\n"
     ]
    }
   ],
   "source": [
    "print(\"Please contemplate a single, one —and only one— backslash: \\\\\")"
   ]
  },
  {
   "cell_type": "markdown",
   "metadata": {
    "id": "GTFObd169jrE"
   },
   "source": [
    "By typing `r` before the quotes, we denote a string as a _raw string_, which will ignore any special meaning:"
   ]
  },
  {
   "cell_type": "code",
   "execution_count": null,
   "metadata": {
    "colab": {
     "base_uri": "https://localhost:8080/"
    },
    "executionInfo": {
     "elapsed": 44,
     "status": "ok",
     "timestamp": 1656925041492,
     "user": {
      "displayName": "Ben Elvin",
      "userId": "09111547648527423041"
     },
     "user_tz": -120
    },
    "id": "m74jQvn89jrE",
    "outputId": "e58b721a-c14d-4d3e-be31-80c24fe5ab2c"
   },
   "outputs": [
    {
     "name": "stdout",
     "output_type": "stream",
     "text": [
      "This will not create a new line \\n and here we will see two backslashes \\\\\n"
     ]
    }
   ],
   "source": [
    "raw_str = r\"This will not create a new line \\n and here we will see two backslashes \\\\\"\n",
    "print(raw_str)"
   ]
  },
  {
   "cell_type": "markdown",
   "metadata": {
    "id": "gdXLE6kg9jrF"
   },
   "source": [
    "You can combine strings using `+` and multiply them with `*`:"
   ]
  },
  {
   "cell_type": "code",
   "execution_count": null,
   "metadata": {
    "colab": {
     "base_uri": "https://localhost:8080/"
    },
    "executionInfo": {
     "elapsed": 39,
     "status": "ok",
     "timestamp": 1656925041492,
     "user": {
      "displayName": "Ben Elvin",
      "userId": "09111547648527423041"
     },
     "user_tz": -120
    },
    "id": "60DFFaI29jrF",
    "outputId": "d517d9f8-144e-4a64-c44f-87e6f63b7e1d"
   },
   "outputs": [
    {
     "name": "stdout",
     "output_type": "stream",
     "text": [
      "DataScience\n"
     ]
    }
   ],
   "source": [
    "print(\"Data\" + \"Science\")"
   ]
  },
  {
   "cell_type": "code",
   "execution_count": null,
   "metadata": {
    "colab": {
     "base_uri": "https://localhost:8080/"
    },
    "executionInfo": {
     "elapsed": 34,
     "status": "ok",
     "timestamp": 1656925041492,
     "user": {
      "displayName": "Ben Elvin",
      "userId": "09111547648527423041"
     },
     "user_tz": -120
    },
    "id": "Lc2l7DWQ9jrF",
    "outputId": "0ce9a9c6-6ca9-493f-a18b-6609c5d46d33"
   },
   "outputs": [
    {
     "name": "stdout",
     "output_type": "stream",
     "text": [
      "DataDataDataDataDataDataDataDataDataData\n"
     ]
    }
   ],
   "source": [
    "print(\"Data\"*10)"
   ]
  },
  {
   "cell_type": "markdown",
   "metadata": {
    "id": "E6X3R-Qu9jrF"
   },
   "source": [
    "Using `[]` you can grab certain characters from a string by specifying their position\n",
    "- We use positive numbers to start counting from the begining of a string. The 1st letter is position `[0]` \n",
    "- We use negative numbers to start counting from the end of a string. The last letter is position `[-1]`"
   ]
  },
  {
   "cell_type": "code",
   "execution_count": null,
   "metadata": {
    "colab": {
     "base_uri": "https://localhost:8080/",
     "height": 35
    },
    "executionInfo": {
     "elapsed": 31,
     "status": "ok",
     "timestamp": 1656925041492,
     "user": {
      "displayName": "Ben Elvin",
      "userId": "09111547648527423041"
     },
     "user_tz": -120
    },
    "id": "kugvoRh59jrF",
    "outputId": "1a67e6bf-36e3-4b59-8d62-44ed3df8a2dd"
   },
   "outputs": [
    {
     "data": {
      "application/vnd.google.colaboratory.intrinsic+json": {
       "type": "string"
      },
      "text/plain": [
       "'a'"
      ]
     },
     "execution_count": 38,
     "metadata": {},
     "output_type": "execute_result"
    }
   ],
   "source": [
    "letters = \"abcdefghijklmnopqrstuvwxyz\"\n",
    "\n",
    "letters[0]"
   ]
  },
  {
   "cell_type": "code",
   "execution_count": null,
   "metadata": {
    "colab": {
     "base_uri": "https://localhost:8080/",
     "height": 35
    },
    "executionInfo": {
     "elapsed": 30,
     "status": "ok",
     "timestamp": 1656925041492,
     "user": {
      "displayName": "Ben Elvin",
      "userId": "09111547648527423041"
     },
     "user_tz": -120
    },
    "id": "PhVVHG5O9jrF",
    "outputId": "c0cea4b5-4679-42ba-90c2-2689821f7a8f"
   },
   "outputs": [
    {
     "data": {
      "application/vnd.google.colaboratory.intrinsic+json": {
       "type": "string"
      },
      "text/plain": [
       "'c'"
      ]
     },
     "execution_count": 39,
     "metadata": {},
     "output_type": "execute_result"
    }
   ],
   "source": [
    "letters[2]"
   ]
  },
  {
   "cell_type": "code",
   "execution_count": null,
   "metadata": {
    "colab": {
     "base_uri": "https://localhost:8080/",
     "height": 35
    },
    "executionInfo": {
     "elapsed": 30,
     "status": "ok",
     "timestamp": 1656925041493,
     "user": {
      "displayName": "Ben Elvin",
      "userId": "09111547648527423041"
     },
     "user_tz": -120
    },
    "id": "_GUQzusO9jrF",
    "outputId": "a758c861-897b-48eb-d3f2-d72c10ce5655"
   },
   "outputs": [
    {
     "data": {
      "application/vnd.google.colaboratory.intrinsic+json": {
       "type": "string"
      },
      "text/plain": [
       "'z'"
      ]
     },
     "execution_count": 40,
     "metadata": {},
     "output_type": "execute_result"
    }
   ],
   "source": [
    "letters[-1]"
   ]
  },
  {
   "cell_type": "code",
   "execution_count": null,
   "metadata": {
    "colab": {
     "base_uri": "https://localhost:8080/",
     "height": 35
    },
    "executionInfo": {
     "elapsed": 30,
     "status": "ok",
     "timestamp": 1656925041493,
     "user": {
      "displayName": "Ben Elvin",
      "userId": "09111547648527423041"
     },
     "user_tz": -120
    },
    "id": "V5_KTTMm9jrF",
    "outputId": "a120f2ef-5947-4f57-af7b-0a0fa7b2f22e"
   },
   "outputs": [
    {
     "data": {
      "application/vnd.google.colaboratory.intrinsic+json": {
       "type": "string"
      },
      "text/plain": [
       "'w'"
      ]
     },
     "execution_count": 41,
     "metadata": {},
     "output_type": "execute_result"
    }
   ],
   "source": [
    "letters [-4]"
   ]
  },
  {
   "cell_type": "markdown",
   "metadata": {
    "id": "XaVoo-1O9jrF"
   },
   "source": [
    "You can _slice_ a string using `[start:end]`. Note that the start is inclusive, but the end is not:"
   ]
  },
  {
   "cell_type": "code",
   "execution_count": null,
   "metadata": {
    "colab": {
     "base_uri": "https://localhost:8080/",
     "height": 35
    },
    "executionInfo": {
     "elapsed": 29,
     "status": "ok",
     "timestamp": 1656925041493,
     "user": {
      "displayName": "Ben Elvin",
      "userId": "09111547648527423041"
     },
     "user_tz": -120
    },
    "id": "oZe67mOX9jrF",
    "outputId": "376559bf-432b-45aa-dda1-ee9c68ad648c"
   },
   "outputs": [
    {
     "data": {
      "application/vnd.google.colaboratory.intrinsic+json": {
       "type": "string"
      },
      "text/plain": [
       "'bcde'"
      ]
     },
     "execution_count": 42,
     "metadata": {},
     "output_type": "execute_result"
    }
   ],
   "source": [
    "letters[1:5]"
   ]
  },
  {
   "cell_type": "markdown",
   "metadata": {
    "id": "V3z2_t-L9jrG"
   },
   "source": [
    "If you don't specify the start, the slice will start at the beginning of the string. Same goes for the end:"
   ]
  },
  {
   "cell_type": "code",
   "execution_count": null,
   "metadata": {
    "colab": {
     "base_uri": "https://localhost:8080/",
     "height": 35
    },
    "executionInfo": {
     "elapsed": 29,
     "status": "ok",
     "timestamp": 1656925041493,
     "user": {
      "displayName": "Ben Elvin",
      "userId": "09111547648527423041"
     },
     "user_tz": -120
    },
    "id": "aG7gvGat9jrG",
    "outputId": "7c2ddb57-84f2-49f2-b471-670e85e8b9df"
   },
   "outputs": [
    {
     "data": {
      "application/vnd.google.colaboratory.intrinsic+json": {
       "type": "string"
      },
      "text/plain": [
       "'abcd'"
      ]
     },
     "execution_count": 43,
     "metadata": {},
     "output_type": "execute_result"
    }
   ],
   "source": [
    "letters[:4]"
   ]
  },
  {
   "cell_type": "code",
   "execution_count": null,
   "metadata": {
    "colab": {
     "base_uri": "https://localhost:8080/",
     "height": 35
    },
    "executionInfo": {
     "elapsed": 29,
     "status": "ok",
     "timestamp": 1656925041494,
     "user": {
      "displayName": "Ben Elvin",
      "userId": "09111547648527423041"
     },
     "user_tz": -120
    },
    "id": "byxy0Fxu9jrG",
    "outputId": "99d06d51-8c2e-4506-e490-c2d1b65f51e4"
   },
   "outputs": [
    {
     "data": {
      "application/vnd.google.colaboratory.intrinsic+json": {
       "type": "string"
      },
      "text/plain": [
       "'efghijklmnopqrstuvwxyz'"
      ]
     },
     "execution_count": 44,
     "metadata": {},
     "output_type": "execute_result"
    }
   ],
   "source": [
    "letters[4:]"
   ]
  },
  {
   "cell_type": "markdown",
   "metadata": {
    "id": "boj3LTz89jrG"
   },
   "source": [
    "Counting how many characters are there in a string can be done with `len()`:"
   ]
  },
  {
   "cell_type": "code",
   "execution_count": null,
   "metadata": {
    "colab": {
     "base_uri": "https://localhost:8080/"
    },
    "executionInfo": {
     "elapsed": 29,
     "status": "ok",
     "timestamp": 1656925041494,
     "user": {
      "displayName": "Ben Elvin",
      "userId": "09111547648527423041"
     },
     "user_tz": -120
    },
    "id": "ls59e3gu9jrG",
    "outputId": "87c3b91d-def4-468b-d010-cf3091af8522"
   },
   "outputs": [
    {
     "data": {
      "text/plain": [
       "26"
      ]
     },
     "execution_count": 45,
     "metadata": {},
     "output_type": "execute_result"
    }
   ],
   "source": [
    "# https://www.w3schools.com/python/ref_func_len.asp\n",
    "\n",
    "len(letters)"
   ]
  },
  {
   "cell_type": "markdown",
   "metadata": {
    "id": "7WyQW4Ig9jrG"
   },
   "source": [
    "The `split` function lets you break a string into smaller strings. The split occurs every time a certain character appears in the string, such as a comma or full stop."
   ]
  },
  {
   "cell_type": "code",
   "execution_count": null,
   "metadata": {
    "id": "uQ1bJH_z9jrG"
   },
   "outputs": [],
   "source": [
    "jobs = \"Data Scientist, Data Analyst, Data Engineer, Business Analyst, Marketing Analyst, Analytics Consultant\""
   ]
  },
  {
   "cell_type": "code",
   "execution_count": null,
   "metadata": {
    "colab": {
     "base_uri": "https://localhost:8080/",
     "height": 35
    },
    "executionInfo": {
     "elapsed": 24,
     "status": "ok",
     "timestamp": 1656925041495,
     "user": {
      "displayName": "Ben Elvin",
      "userId": "09111547648527423041"
     },
     "user_tz": -120
    },
    "id": "XeizyHTZ9jrG",
    "outputId": "2c98d51a-8642-4952-f0cb-d8eb2b677aa4"
   },
   "outputs": [
    {
     "data": {
      "application/vnd.google.colaboratory.intrinsic+json": {
       "type": "string"
      },
      "text/plain": [
       "'Data Scientist, Data Analyst, Data Engineer, Business Analyst, Marketing Analyst, Analytics Consultant'"
      ]
     },
     "execution_count": 47,
     "metadata": {},
     "output_type": "execute_result"
    }
   ],
   "source": [
    "jobs"
   ]
  },
  {
   "cell_type": "code",
   "execution_count": null,
   "metadata": {
    "colab": {
     "base_uri": "https://localhost:8080/"
    },
    "executionInfo": {
     "elapsed": 500,
     "status": "ok",
     "timestamp": 1656925041971,
     "user": {
      "displayName": "Ben Elvin",
      "userId": "09111547648527423041"
     },
     "user_tz": -120
    },
    "id": "MGMy9Lvs9jrG",
    "outputId": "3591e67d-45fe-4430-b7da-7945d1e6e86e"
   },
   "outputs": [
    {
     "data": {
      "text/plain": [
       "['Data Scientist',\n",
       " ' Data Analyst',\n",
       " ' Data Engineer',\n",
       " ' Business Analyst',\n",
       " ' Marketing Analyst',\n",
       " ' Analytics Consultant']"
      ]
     },
     "execution_count": 48,
     "metadata": {},
     "output_type": "execute_result"
    }
   ],
   "source": [
    "# https://www.w3schools.com/python/ref_string_split.asp\n",
    "\n",
    "jobs.split(\",\")"
   ]
  },
  {
   "cell_type": "markdown",
   "metadata": {
    "id": "jTkK-9YB9jrG"
   },
   "source": [
    "You can substitute a character using `replace()`:"
   ]
  },
  {
   "cell_type": "code",
   "execution_count": null,
   "metadata": {
    "colab": {
     "base_uri": "https://localhost:8080/",
     "height": 35
    },
    "executionInfo": {
     "elapsed": 51,
     "status": "ok",
     "timestamp": 1656925041973,
     "user": {
      "displayName": "Ben Elvin",
      "userId": "09111547648527423041"
     },
     "user_tz": -120
    },
    "id": "EfRAH1DQ9jrG",
    "outputId": "dad6b0eb-3d71-4395-95fe-49497716f82b"
   },
   "outputs": [
    {
     "data": {
      "application/vnd.google.colaboratory.intrinsic+json": {
       "type": "string"
      },
      "text/plain": [
       "'Duck Scientist, Duck Analyst, Duck Engineer, Business Analyst, Marketing Analyst, Analytics Consultant'"
      ]
     },
     "execution_count": 49,
     "metadata": {},
     "output_type": "execute_result"
    }
   ],
   "source": [
    "# https://www.w3schools.com/python/ref_string_replace.asp\n",
    "\n",
    "jobs.replace(\"Data\", \"Duck\")"
   ]
  },
  {
   "cell_type": "markdown",
   "metadata": {
    "id": "8kcFyXzW9jrG"
   },
   "source": [
    "You can specify how many times do you want to make that replacement:"
   ]
  },
  {
   "cell_type": "code",
   "execution_count": null,
   "metadata": {
    "colab": {
     "base_uri": "https://localhost:8080/",
     "height": 35
    },
    "executionInfo": {
     "elapsed": 50,
     "status": "ok",
     "timestamp": 1656925041974,
     "user": {
      "displayName": "Ben Elvin",
      "userId": "09111547648527423041"
     },
     "user_tz": -120
    },
    "id": "UVpKW6vN9jrH",
    "outputId": "fddcd00c-40c5-4856-c044-c78e6ac1f8ae"
   },
   "outputs": [
    {
     "data": {
      "application/vnd.google.colaboratory.intrinsic+json": {
       "type": "string"
      },
      "text/plain": [
       "'Duck Scientist, Duck Analyst, Data Engineer, Business Analyst, Marketing Analyst, Analytics Consultant'"
      ]
     },
     "execution_count": 50,
     "metadata": {},
     "output_type": "execute_result"
    }
   ],
   "source": [
    "jobs.replace(\"Data\", \"Duck\", 2)"
   ]
  },
  {
   "cell_type": "markdown",
   "metadata": {
    "id": "eOoL1zpB9jrH"
   },
   "source": [
    "A very common process in data cleaning is to remove preceeding and trailing spaces from strings. The function `strip()` does exactly that:"
   ]
  },
  {
   "cell_type": "code",
   "execution_count": null,
   "metadata": {
    "colab": {
     "base_uri": "https://localhost:8080/"
    },
    "executionInfo": {
     "elapsed": 48,
     "status": "ok",
     "timestamp": 1656925041974,
     "user": {
      "displayName": "Ben Elvin",
      "userId": "09111547648527423041"
     },
     "user_tz": -120
    },
    "id": "hk0Udvyn9jrH",
    "outputId": "e8dbad21-c27e-4b3a-8e15-a1da0d27935a"
   },
   "outputs": [
    {
     "name": "stdout",
     "output_type": "stream",
     "text": [
      "                     wow                     \n"
     ]
    }
   ],
   "source": [
    "wow = \"                     wow                     \"\n",
    "print(wow)"
   ]
  },
  {
   "cell_type": "code",
   "execution_count": null,
   "metadata": {
    "colab": {
     "base_uri": "https://localhost:8080/",
     "height": 35
    },
    "executionInfo": {
     "elapsed": 39,
     "status": "ok",
     "timestamp": 1656925041975,
     "user": {
      "displayName": "Ben Elvin",
      "userId": "09111547648527423041"
     },
     "user_tz": -120
    },
    "id": "mZWhXNBD9jrH",
    "outputId": "3f1c136d-5ab5-4ae4-bb73-938bc3a78397"
   },
   "outputs": [
    {
     "data": {
      "application/vnd.google.colaboratory.intrinsic+json": {
       "type": "string"
      },
      "text/plain": [
       "'wow'"
      ]
     },
     "execution_count": 52,
     "metadata": {},
     "output_type": "execute_result"
    }
   ],
   "source": [
    "# https://www.w3schools.com/python/ref_string_strip.asp\n",
    "\n",
    "wow.strip()"
   ]
  },
  {
   "cell_type": "markdown",
   "metadata": {
    "id": "O8qkC9Ug9jrH"
   },
   "source": [
    "There are many more string methods in Python. Browse through them here: https://www.w3schools.com/python/python_ref_string.asp \n",
    "\n",
    "About 99.9% of the time, coding does not mean memorizing functions and knowing them off by heart, but being quick in finding the function you need, discovering how to use them, reading the documentation, or simply adapting coding examples from the internet to meet your needs. \n",
    "\n",
    "In the exercises below, you will have to use several Python string methods, in combination with what you've learned here. Use the link from _w3schools_ or Google around to complete them."
   ]
  },
  {
   "cell_type": "markdown",
   "metadata": {
    "id": "iYebLIcM9jrH"
   },
   "source": [
    "###### **Exercise 8:**\n",
    "create a Python string with the following text, and assign it to the variable `data_science`:\n",
    "\n",
    "Data science is an interdisciplinary field that uses scientific methods, processes, algorithms and systems to extract knowledge and insights from noisy, structured and unstructured data, and apply knowledge and actionable insights from data across a broad range of application domains. \n",
    "\n",
    "Data science is related to data mining, machine learning and big data. Data science is a \"concept to unify statistics, data analysis, informatics, and their related methods\" in order to \"understand and analyze actual phenomena\" with data. It uses techniques and theories drawn from many fields within the context of mathematics, statistics, computer science, information science, and domain knowledge. However, data science is different from computer science and information science. Turing Award winner Jim Gray imagined data science as a \"fourth paradigm\" of science (empirical, theoretical, computational, and now data-driven) and asserted that \"everything about science is changing because of the impact of information technology\" and the data deluge."
   ]
  },
  {
   "cell_type": "code",
   "execution_count": null,
   "metadata": {
    "id": "sqWvKQMU9jrH"
   },
   "outputs": [],
   "source": [
    "# your code here"
   ]
  },
  {
   "cell_type": "markdown",
   "metadata": {
    "id": "g8DIfhZ_9jrH"
   },
   "source": [
    "###### **Exercise 9:**\n",
    "how many characters are there in `data_science`?"
   ]
  },
  {
   "cell_type": "code",
   "execution_count": null,
   "metadata": {
    "id": "q6gDSO3E9jrH"
   },
   "outputs": [],
   "source": [
    "# your code here"
   ]
  },
  {
   "cell_type": "markdown",
   "metadata": {
    "id": "cnXae6C19jrI"
   },
   "source": [
    "###### **Exercise 10:**\n",
    "convert all of `data_science` to lower case."
   ]
  },
  {
   "cell_type": "code",
   "execution_count": null,
   "metadata": {
    "id": "VsUPsobG9jrI"
   },
   "outputs": [],
   "source": [
    "# your code here"
   ]
  },
  {
   "cell_type": "markdown",
   "metadata": {
    "id": "M2ig3CBO9jrI"
   },
   "source": [
    "###### **Exercise 11:**\n",
    "how many times does the word \"data\" appear in the string you converted to lower case?"
   ]
  },
  {
   "cell_type": "code",
   "execution_count": null,
   "metadata": {
    "id": "d3xnrIw69jrJ"
   },
   "outputs": [],
   "source": [
    "# your code here"
   ]
  },
  {
   "cell_type": "markdown",
   "metadata": {
    "id": "sqLnagdM9jrK"
   },
   "source": [
    "###### **Exercise 12:**\n",
    "separate the string into sentences, splitting it whenever there is a fullstop (`.`)."
   ]
  },
  {
   "cell_type": "code",
   "execution_count": null,
   "metadata": {
    "id": "IiV2QyrT9jrK"
   },
   "outputs": [],
   "source": [
    "# your code here"
   ]
  },
  {
   "cell_type": "markdown",
   "metadata": {
    "id": "EesNFTTO9jrK"
   },
   "source": [
    "###### **Exercise 13:**\n",
    "capitalise the first letter of every word in the string."
   ]
  },
  {
   "cell_type": "code",
   "execution_count": null,
   "metadata": {
    "id": "kpZGn0NK9jrK"
   },
   "outputs": [],
   "source": [
    "# your code here"
   ]
  },
  {
   "cell_type": "markdown",
   "metadata": {
    "id": "1uTXO2NB9jrK"
   },
   "source": [
    "###### **Exercise 14:**\n",
    "find the index of the word \"Turing\" in the string."
   ]
  },
  {
   "cell_type": "code",
   "execution_count": null,
   "metadata": {
    "id": "HuV6OUsQ9jrK"
   },
   "outputs": [],
   "source": [
    "# your code here"
   ]
  },
  {
   "cell_type": "markdown",
   "metadata": {
    "id": "QY5ao8e09jrK"
   },
   "source": [
    "## Formatting with f-strings\n",
    "\n",
    "Strings can be concatenated with `+`. Sometimes, you need to [_interpolate_](https://en.wikipedia.org/wiki/String_interpolation) values into strings. \n",
    "\n",
    "Say you work for a logistics company and have a script that calculates the number of trucks that should be made ready for the next day. You want this number to be included in the sentence of an email: `\"For tomorrow, we will need x trucks.\"` But replacing x with the number of trucks, which will vary each day.\n",
    "\n",
    "This task is known as formatting strings. It can be confusing to learn this by just browsing the internet because there are many ways to format strings in Python: the old one (using `%`), the new one (using `{}`and `format()`) and the newest one (using `f-strings`).\n",
    "\n",
    "We will only show you how to use f-strings, but be ready to stumble into the other ones at any time!"
   ]
  },
  {
   "cell_type": "code",
   "execution_count": null,
   "metadata": {
    "colab": {
     "base_uri": "https://localhost:8080/"
    },
    "executionInfo": {
     "elapsed": 39,
     "status": "ok",
     "timestamp": 1656925041981,
     "user": {
      "displayName": "Ben Elvin",
      "userId": "09111547648527423041"
     },
     "user_tz": -120
    },
    "id": "uUtDC4nG9jrK",
    "outputId": "25cd046c-9b58-4572-c009-b9a27ee6f61d"
   },
   "outputs": [
    {
     "name": "stdout",
     "output_type": "stream",
     "text": [
      "For tomorrow, we will need 73 trucks.\n"
     ]
    }
   ],
   "source": [
    "n_trucks = 73\n",
    "\n",
    "email = f\"For tomorrow, we will need {n_trucks} trucks.\"\n",
    "\n",
    "print(email)"
   ]
  },
  {
   "cell_type": "markdown",
   "metadata": {
    "id": "wu4jlS659jrK"
   },
   "source": [
    "The curly brackets support expressions like these:"
   ]
  },
  {
   "cell_type": "code",
   "execution_count": null,
   "metadata": {
    "colab": {
     "base_uri": "https://localhost:8080/"
    },
    "executionInfo": {
     "elapsed": 32,
     "status": "ok",
     "timestamp": 1656925041981,
     "user": {
      "displayName": "Ben Elvin",
      "userId": "09111547648527423041"
     },
     "user_tz": -120
    },
    "id": "SoWNRe6P9jrK",
    "outputId": "cbef3263-a485-4350-c6c7-65d9be170657"
   },
   "outputs": [
    {
     "name": "stdout",
     "output_type": "stream",
     "text": [
      "For tomorrow, we will need 83 trucks in the Main Garage.\n"
     ]
    }
   ],
   "source": [
    "place = \"main garage\"\n",
    "\n",
    "email = f\"For tomorrow, we will need {n_trucks+10} trucks in the {place.title()}.\"\n",
    "\n",
    "print(email)"
   ]
  },
  {
   "cell_type": "markdown",
   "metadata": {
    "id": "qqMvu4G19jrL"
   },
   "source": [
    "###### **Exercise 15:**\n",
    "convert the `data_science` string from the previous exercise into an f-string, replacing the name \"Jim Gray\" with the variable `jim`:"
   ]
  },
  {
   "cell_type": "code",
   "execution_count": null,
   "metadata": {
    "id": "leloOVdx9jrL"
   },
   "outputs": [],
   "source": [
    "jim = \"James Nicholas Gray\""
   ]
  },
  {
   "cell_type": "code",
   "execution_count": null,
   "metadata": {
    "id": "jbveObbY9jrL"
   },
   "outputs": [],
   "source": [
    "# your code here"
   ]
  }
 ],
 "metadata": {
  "colab": {
   "provenance": [
    {
     "file_id": "12-S9dPufsrs0Y-dWOhJFrGdqpoIU7Qr9",
     "timestamp": 1669117153715
    },
    {
     "file_id": "1IvSdcigKNNDuqSh44DQ-HYgif_yTpH5Z",
     "timestamp": 1652277217817
    }
   ]
  },
  "kernelspec": {
   "display_name": "Python 3 (ipykernel)",
   "language": "python",
   "name": "python3"
  },
  "language_info": {
   "codemirror_mode": {
    "name": "ipython",
    "version": 3
   },
   "file_extension": ".py",
   "mimetype": "text/x-python",
   "name": "python",
   "nbconvert_exporter": "python",
   "pygments_lexer": "ipython3",
   "version": "3.9.13"
  }
 },
 "nbformat": 4,
 "nbformat_minor": 1
}
